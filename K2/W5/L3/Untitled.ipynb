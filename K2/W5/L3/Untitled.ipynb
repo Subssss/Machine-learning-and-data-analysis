{
 "cells": [
  {
   "cell_type": "code",
   "execution_count": 1,
   "metadata": {},
   "outputs": [],
   "source": [
    "from sklearn.datasets import load_digits\n",
    "from sklearn.model_selection import train_test_split\n",
    "from sklearn.neighbors import KNeighborsClassifier\n",
    "from sklearn.metrics import mean_absolute_error\n",
    "from sklearn.ensemble import RandomForestClassifier\n",
    "from sklearn.metrics import  accuracy_score"
   ]
  },
  {
   "cell_type": "code",
   "execution_count": 2,
   "metadata": {},
   "outputs": [],
   "source": [
    "data = load_digits().data\n",
    "target = load_digits().target\n",
    "X_train = [data[i] for i in range(int(data.shape[0]*0.75))]\n",
    "y_train = [target[i] for i in range(int(target.shape[0]*0.75))]\n",
    "X_test = [data[i+int(data.shape[0]*0.75)] for i in range(int(data.shape[0]*0.25))]\n",
    "y_test = [target[i+int(data.shape[0]*0.75)] for i in range(int(target.shape[0]*0.25))]\n",
    "#X_train, X_test, y_train, y_test = train_test_split(data, target, test_size=0.25, shuffle = False)"
   ]
  },
  {
   "cell_type": "code",
   "execution_count": 3,
   "metadata": {},
   "outputs": [
    {
     "name": "stdout",
     "output_type": "stream",
     "text": [
      "0.16926503340757237\n",
      "0.03786191536748329\n"
     ]
    }
   ],
   "source": [
    "knn = KNeighborsClassifier(weights = 'distance', n_neighbors = 1)\n",
    "knn.fit(X_train,y_train)\n",
    "pred_knn = knn.predict(X_test)\n",
    "acc_knn = mean_absolute_error(y_test, pred_knn)\n",
    "print(acc_knn)\n",
    "print (1 - accuracy_score(y_test, pred_knn))"
   ]
  },
  {
   "cell_type": "code",
   "execution_count": 4,
   "metadata": {},
   "outputs": [
    {
     "name": "stdout",
     "output_type": "stream",
     "text": [
      "0.30066815144766146\n",
      "0.06681514476614703\n"
     ]
    }
   ],
   "source": [
    "rfc = RandomForestClassifier(n_estimators=1000)\n",
    "rfc.fit(X_train,y_train)\n",
    "pred_rfc = rfc.predict(X_test)\n",
    "acc_rfc = mean_absolute_error(y_test, pred_rfc)\n",
    "print(acc_rfc)\n",
    "print (1 - accuracy_score(y_test, pred_rfc))\n"
   ]
  },
  {
   "cell_type": "code",
   "execution_count": null,
   "metadata": {},
   "outputs": [],
   "source": []
  }
 ],
 "metadata": {
  "kernelspec": {
   "display_name": "Python 3",
   "language": "python",
   "name": "python3"
  },
  "language_info": {
   "codemirror_mode": {
    "name": "ipython",
    "version": 3
   },
   "file_extension": ".py",
   "mimetype": "text/x-python",
   "name": "python",
   "nbconvert_exporter": "python",
   "pygments_lexer": "ipython3",
   "version": "3.6.5"
  }
 },
 "nbformat": 4,
 "nbformat_minor": 2
}
