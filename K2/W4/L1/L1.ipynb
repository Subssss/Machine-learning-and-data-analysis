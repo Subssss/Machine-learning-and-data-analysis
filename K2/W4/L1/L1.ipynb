{
 "cells": [
  {
   "cell_type": "code",
   "execution_count": 40,
   "metadata": {},
   "outputs": [
    {
     "data": {
      "text/plain": [
       "dict_keys(['data', 'target', 'target_names', 'images', 'DESCR'])"
      ]
     },
     "execution_count": 40,
     "metadata": {},
     "output_type": "execute_result"
    }
   ],
   "source": [
    "from sklearn.datasets import load_digits\n",
    "from sklearn.cross_validation import cross_val_score\n",
    "from sklearn.tree import DecisionTreeClassifier\n",
    "from sklearn.ensemble import BaggingClassifier\n",
    "import math\n",
    "data = load_digits()\n",
    "data.keys()"
   ]
  },
  {
   "cell_type": "code",
   "execution_count": 33,
   "metadata": {},
   "outputs": [],
   "source": [
    "def write_answer(answer, file):\n",
    "    with open(file, \"w\") as fout:\n",
    "        fout.write(str(answer))"
   ]
  },
  {
   "cell_type": "code",
   "execution_count": 36,
   "metadata": {},
   "outputs": [],
   "source": [
    "def csv (estimator, file):\n",
    "    cvs = cross_val_score (estimator, X, y, cv =10)\n",
    "    print(cvs)\n",
    "    print(cvs.mean())\n",
    "    write_answer(cvs.mean(), file)"
   ]
  },
  {
   "cell_type": "code",
   "execution_count": 29,
   "metadata": {},
   "outputs": [],
   "source": [
    "X = data.data\n",
    "y = data.target"
   ]
  },
  {
   "cell_type": "code",
   "execution_count": 34,
   "metadata": {},
   "outputs": [
    {
     "name": "stdout",
     "output_type": "stream",
     "text": [
      "[0.80540541 0.84699454 0.81767956 0.80555556 0.76536313 0.88826816\n",
      " 0.88826816 0.81460674 0.83615819 0.82954545]\n",
      "0.8297844884040803\n"
     ]
    }
   ],
   "source": [
    "estimator = DecisionTreeClassifier()\n",
    "cvs = cross_val_score (estimator, X, y, cv =10)\n",
    "print(cvs)\n",
    "print(cvs.mean())\n",
    "write_answer(cvs.mean(), '1.txt')"
   ]
  },
  {
   "cell_type": "code",
   "execution_count": 37,
   "metadata": {},
   "outputs": [
    {
     "name": "stdout",
     "output_type": "stream",
     "text": [
      "[0.85945946 0.93989071 0.91160221 0.93333333 0.91620112 0.97765363\n",
      " 0.95530726 0.92134831 0.87570621 0.9375    ]\n",
      "0.9228002253589249\n"
     ]
    }
   ],
   "source": [
    "bagging_estimator = BaggingClassifier(estimator, n_estimators = 100 )\n",
    "csv (bagging_estimator, '2.txt')"
   ]
  },
  {
   "cell_type": "code",
   "execution_count": 41,
   "metadata": {},
   "outputs": [
    {
     "name": "stdout",
     "output_type": "stream",
     "text": [
      "[0.86486486 0.95628415 0.91160221 0.95       0.91620112 0.98324022\n",
      " 0.96089385 0.8988764  0.86440678 0.92045455]\n",
      "0.9226824152955752\n"
     ]
    }
   ],
   "source": [
    "bagging_estimator = BaggingClassifier(estimator, n_estimators = 100, max_features = math.sqrt(1) )\n",
    "csv (bagging_estimator, '3.txt')"
   ]
  },
  {
   "cell_type": "code",
   "execution_count": 45,
   "metadata": {},
   "outputs": [
    {
     "name": "stdout",
     "output_type": "stream",
     "text": [
      "[0.90810811 0.9726776  0.96685083 0.96111111 0.95530726 0.97206704\n",
      " 0.99441341 0.96629213 0.93220339 0.94886364]\n",
      "0.9577894514099728\n"
     ]
    }
   ],
   "source": [
    "estimator = DecisionTreeClassifier(max_features = 'sqrt')\n",
    "bagging_estimator = BaggingClassifier(estimator, n_estimators = 100 )\n",
    "csv (bagging_estimator, '4.txt')"
   ]
  },
  {
   "cell_type": "code",
   "execution_count": 57,
   "metadata": {},
   "outputs": [
    {
     "name": "stdout",
     "output_type": "stream",
     "text": [
      "[0.87027027 0.94535519 0.8839779  0.86111111 0.91061453 0.95530726\n",
      " 0.92178771 0.96629213 0.89830508 0.93181818]\n",
      "0.9144839371792808\n"
     ]
    }
   ],
   "source": [
    "from sklearn.ensemble import RandomForestClassifier\n",
    "estimator_rfc = RandomForestClassifier(max_features  = 5)\n",
    "csv (estimator_rfc, '5.txt')"
   ]
  }
 ],
 "metadata": {
  "kernelspec": {
   "display_name": "Python 3",
   "language": "python",
   "name": "python3"
  },
  "language_info": {
   "codemirror_mode": {
    "name": "ipython",
    "version": 3
   },
   "file_extension": ".py",
   "mimetype": "text/x-python",
   "name": "python",
   "nbconvert_exporter": "python",
   "pygments_lexer": "ipython3",
   "version": "3.6.5"
  }
 },
 "nbformat": 4,
 "nbformat_minor": 2
}
