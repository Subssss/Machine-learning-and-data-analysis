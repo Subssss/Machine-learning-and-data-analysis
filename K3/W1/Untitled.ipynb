{
 "cells": [
  {
   "cell_type": "code",
   "execution_count": 1,
   "metadata": {},
   "outputs": [],
   "source": [
    "import pandas as pd\n",
    "import numpy as np\n",
    "import re\n",
    "from sklearn.cluster import MeanShift"
   ]
  },
  {
   "cell_type": "code",
   "execution_count": 4,
   "metadata": {},
   "outputs": [
    {
     "name": "stderr",
     "output_type": "stream",
     "text": [
      "D:\\ProgramData\\Anaconda3\\lib\\site-packages\\IPython\\core\\interactiveshell.py:2785: DtypeWarning: Columns (0) have mixed types. Specify dtype option on import or set low_memory=False.\n",
      "  interactivity=interactivity, compiler=compiler, result=result)\n"
     ]
    }
   ],
   "source": [
    "with open('checkins.dat', 'r') as file1:\n",
    "    with open('checkins-new.dat', 'w') as file2:\n",
    "        for index, line in enumerate(file1):\n",
    "            newLine = line.replace(' ','').replace('|', ',')\n",
    "            if (index != 1):\n",
    "                file2.write(newLine)\n",
    "                \n",
    "data = pd.read_csv('checkins-new.dat').dropna()\n",
    "data = data.head(100000)"
   ]
  },
  {
   "cell_type": "code",
   "execution_count": 6,
   "metadata": {},
   "outputs": [
    {
     "name": "stdout",
     "output_type": "stream",
     "text": [
      "     latitude   longitude\n",
      "1   38.895112  -77.036366\n",
      "3   33.800745  -84.410520\n",
      "7   45.523452 -122.676207\n",
      "9   40.764462 -111.904565\n",
      "10  33.448377 -112.074037\n"
     ]
    }
   ],
   "source": [
    "data.drop(columns=['created_at', 'id', 'user_id', 'venue_id'], axis=1, inplace=True)\n",
    "X = data.values\n",
    "print(data.head())"
   ]
  },
  {
   "cell_type": "code",
   "execution_count": 8,
   "metadata": {},
   "outputs": [
    {
     "name": "stdout",
     "output_type": "stream",
     "text": [
      "[ 5  7 30 ... 25 19  4]\n"
     ]
    }
   ],
   "source": [
    "ms = MeanShift(bandwidth=0.1)\n",
    "y = ms.fit_predict(X)\n",
    "print (y)"
   ]
  },
  {
   "cell_type": "code",
   "execution_count": 17,
   "metadata": {},
   "outputs": [
    {
     "name": "stdout",
     "output_type": "stream",
     "text": [
      "(3230, 2)\n",
      "(100000,)\n",
      "3229\n"
     ]
    }
   ],
   "source": [
    "print(ms.cluster_centers_.shape)\n",
    "print(y.shape)\n",
    "print(y.max())"
   ]
  },
  {
   "cell_type": "code",
   "execution_count": 23,
   "metadata": {},
   "outputs": [
    {
     "name": "stdout",
     "output_type": "stream",
     "text": [
      "[12471  4692  3994 ...     1     1     1]\n"
     ]
    }
   ],
   "source": [
    "num = np.array([0 for i in range(ms.cluster_centers_.shape[0])])\n",
    "for i in y:\n",
    "    num[i]+=1\n",
    "print(num)\n"
   ]
  },
  {
   "cell_type": "code",
   "execution_count": 36,
   "metadata": {},
   "outputs": [
    {
     "name": "stdout",
     "output_type": "stream",
     "text": [
      "(592, 2)\n",
      "[[  40.7177164   -73.99183542]\n",
      " [  33.44943805 -112.00213969]\n",
      " [  33.44638027 -111.90188756]\n",
      " ...\n",
      " [  41.61853175  -88.44556818]\n",
      " [  38.65877915  -76.8856871 ]\n",
      " [  39.2494686   -77.1821271 ]]\n"
     ]
    }
   ],
   "source": [
    "clust = np.array([i for i, j in zip(ms.cluster_centers_, num) if j > 15 ])\n",
    "\n",
    "print(clust.shape)\n",
    "print(clust)"
   ]
  },
  {
   "cell_type": "code",
   "execution_count": 37,
   "metadata": {},
   "outputs": [],
   "source": [
    "with open('centres.dat', 'w') as file1:\n",
    "    clust.tofile(file1, sep=',')"
   ]
  },
  {
   "cell_type": "code",
   "execution_count": 41,
   "metadata": {},
   "outputs": [
    {
     "name": "stdout",
     "output_type": "stream",
     "text": [
      "[[ 3.37512770e+01 -1.18188740e+02]\n",
      " [ 2.58677360e+01 -8.03241160e+01]\n",
      " [ 5.15030160e+01 -7.54790000e-02]\n",
      " [ 5.23788940e+01  4.88508400e+00]\n",
      " [ 3.93664870e+01  1.17036146e+02]\n",
      " [-3.38684570e+01  1.51205134e+02]]\n"
     ]
    }
   ],
   "source": [
    "office = np.array([[33.751277, -118.188740], [25.867736, -80.324116],\n",
    "                   [51.503016, -0.075479], [52.378894, 4.885084], [39.366487, 117.036146], [-33.868457, 151.205134]])\n",
    "print(office)"
   ]
  },
  {
   "cell_type": "code",
   "execution_count": 44,
   "metadata": {},
   "outputs": [
    {
     "name": "stdout",
     "output_type": "stream",
     "text": [
      "[[ 3.38098780e+01 -1.18148924e+02]\n",
      " [ 2.58456723e+01 -8.03188906e+01]\n",
      " [ 5.15029913e+01 -1.25537289e-01]\n",
      " [ 5.23729640e+01  4.89231722e+00]\n",
      " [ 3.12303930e+01  1.21473704e+02]\n",
      " [-3.38606304e+01  1.51204776e+02]]\n"
     ]
    }
   ],
   "source": [
    "from scipy.spatial.distance import euclidean\n",
    "import math\n",
    "i = 0\n",
    "cl_cn = office.copy()\n",
    "for off in office:\n",
    "    min = math.inf\n",
    "    for cent in clust:\n",
    "        if min > euclidean(off,cent):\n",
    "            min = euclidean(off,cent)\n",
    "            cl_cn[i] = cent\n",
    "    i +=1\n",
    "print(cl_cn)"
   ]
  },
  {
   "cell_type": "code",
   "execution_count": 50,
   "metadata": {},
   "outputs": [
    {
     "name": "stdout",
     "output_type": "stream",
     "text": [
      "[-33.86063043 151.20477593]\n"
     ]
    }
   ],
   "source": [
    "best = np.array([])\n",
    "min = math.inf\n",
    "for off in office:\n",
    "    for cent in clust:\n",
    "        if min > euclidean(off,cent):\n",
    "            min = euclidean(off,cent)\n",
    "            best = cent\n",
    "print(best)\n",
    "with open('answer.txt', 'w') as ans:\n",
    "    best.tofile(ans, sep=' ')"
   ]
  },
  {
   "cell_type": "code",
   "execution_count": null,
   "metadata": {},
   "outputs": [],
   "source": []
  }
 ],
 "metadata": {
  "kernelspec": {
   "display_name": "Python 3",
   "language": "python",
   "name": "python3"
  },
  "language_info": {
   "codemirror_mode": {
    "name": "ipython",
    "version": 3
   },
   "file_extension": ".py",
   "mimetype": "text/x-python",
   "name": "python",
   "nbconvert_exporter": "python",
   "pygments_lexer": "ipython3",
   "version": "3.6.5"
  }
 },
 "nbformat": 4,
 "nbformat_minor": 2
}
