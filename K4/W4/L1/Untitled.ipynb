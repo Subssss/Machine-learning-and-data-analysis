{
 "cells": [
  {
   "cell_type": "code",
   "execution_count": 1,
   "metadata": {},
   "outputs": [],
   "source": [
    "import pandas as pd\n",
    "import numpy as np\n",
    "import scipy.stats"
   ]
  },
  {
   "cell_type": "code",
   "execution_count": 2,
   "metadata": {},
   "outputs": [],
   "source": [
    "def write_answer(answer,name):\n",
    "    with open(name,'w') as file1:\n",
    "        file1.write(str(answer))"
   ]
  },
  {
   "cell_type": "code",
   "execution_count": 9,
   "metadata": {},
   "outputs": [
    {
     "name": "stdout",
     "output_type": "stream",
     "text": [
      "Index([u'LOC643837', u'LOC100130417', u'SAMD11', u'NOC2L', u'KLHL17',\n",
      "       u'PLEKHN1', u'C1orf170', u'HES4', u'ISG15', u'AGRN',\n",
      "       ...\n",
      "       u'CLIC2', u'RPS4Y1', u'ZFY', u'PRKY', u'USP9Y', u'DDX3Y', u'CD24',\n",
      "       u'CYorf15B', u'KDM5D', u'EIF1AY'],\n",
      "      dtype='object', length=15748)\n"
     ]
    }
   ],
   "source": [
    "data = pd.read_csv('gene_high_throughput_sequencing.csv', sep=',')\n",
    "data_norm = data[data['Diagnosis'] == \"normal\"]\n",
    "data_er = data[data['Diagnosis'] == \"early neoplasia\"]\n",
    "data_cancer = data[data['Diagnosis'] == \"cancer\"]\n",
    "columns = data.columns[2:]\n",
    "print(columns)"
   ]
  },
  {
   "cell_type": "code",
   "execution_count": 29,
   "metadata": {},
   "outputs": [
    {
     "name": "stdout",
     "output_type": "stream",
     "text": [
      "1575\n",
      "3490\n"
     ]
    }
   ],
   "source": [
    "n_norm_er = 0\n",
    "n_er_cancer = 0\n",
    "p_norm_er = []\n",
    "p_er_cancer = []\n",
    "for i in columns:\n",
    "    p_norm_er.append(scipy.stats.ttest_ind(data_norm[i], data_er[i], equal_var = False)[1])\n",
    "    if scipy.stats.ttest_ind(data_norm[i], data_er[i], equal_var = False)[1] < 0.05:\n",
    "        n_norm_er +=1\n",
    "print(n_norm_er)\n",
    "for i in columns:\n",
    "    p_er_cancer.append(scipy.stats.ttest_ind(data_er[i], data_cancer[i], equal_var = False)[1])\n",
    "    if scipy.stats.ttest_ind(data_er[i], data_cancer[i], equal_var = False)[1] < 0.05:\n",
    "            n_er_cancer +=1\n",
    "print(n_er_cancer)"
   ]
  },
  {
   "cell_type": "code",
   "execution_count": 36,
   "metadata": {},
   "outputs": [],
   "source": [
    "write_answer(n_norm_er,'answer1.txt')\n",
    "write_answer(n_er_cancer,'answer2.txt')"
   ]
  },
  {
   "cell_type": "code",
   "execution_count": 49,
   "metadata": {},
   "outputs": [],
   "source": [
    "import statsmodels.stats.multitest as smm\n",
    "bool_ne_h= smm.multipletests(p_norm_er, alpha = 0.025, method='holm')[0]\n",
    "bool_ec_h= smm.multipletests(p_er_cancer, alpha = 0.025, method='holm')[0]"
   ]
  },
  {
   "cell_type": "code",
   "execution_count": 63,
   "metadata": {},
   "outputs": [
    {
     "name": "stdout",
     "output_type": "stream",
     "text": [
      "2\n",
      "77\n"
     ]
    }
   ],
   "source": [
    "mean_norm = data_norm[columns].mean(axis=0)\n",
    "mean_er = data_er[columns].mean(axis=0)\n",
    "mean_canser = data_cancer[columns].mean(axis=0)\n",
    "\n",
    "n_ne_fc = 0\n",
    "for bl, t, c in zip(bool_ne_h,mean_norm,mean_er):\n",
    "    if bl == True:\n",
    "        if t > c and abs(t/c) > 1.5:\n",
    "            n_ne_fc +=1\n",
    "        else:\n",
    "            if abs(-c/t) > 1.5: \n",
    "                n_ne_fc +=1\n",
    "                \n",
    "n_ec_fc = 0\n",
    "for bl, t, c in zip(bool_ec_h,mean_er,mean_canser):\n",
    "    if bl == True:\n",
    "        if t > c and abs(t/c) > 1.5:\n",
    "            n_ec_fc +=1\n",
    "        else:\n",
    "            if abs(-c/t) > 1.5: \n",
    "                n_ec_fc +=1\n",
    "                \n",
    "print(n_ne_fc)\n",
    "print(n_ec_fc)"
   ]
  },
  {
   "cell_type": "code",
   "execution_count": 64,
   "metadata": {},
   "outputs": [],
   "source": [
    "write_answer(n_ne_fc,'answer3.txt')\n",
    "write_answer(n_ec_fc,'answer4.txt')"
   ]
  },
  {
   "cell_type": "code",
   "execution_count": 65,
   "metadata": {},
   "outputs": [
    {
     "name": "stdout",
     "output_type": "stream",
     "text": [
      "4\n",
      "524\n"
     ]
    }
   ],
   "source": [
    "bool_ne_h= smm.multipletests(p_norm_er, alpha = 0.025, method='fdr_bh')[0]\n",
    "bool_ec_h= smm.multipletests(p_er_cancer, alpha = 0.025, method='fdr_bh')[0]\n",
    "n_ne_fc = 0\n",
    "for bl, t, c in zip(bool_ne_h,mean_norm,mean_er):\n",
    "    if bl == True:\n",
    "        if t > c and abs(t/c) > 1.5:\n",
    "            n_ne_fc +=1\n",
    "        else:\n",
    "            if abs(-c/t) > 1.5: \n",
    "                n_ne_fc +=1\n",
    "                \n",
    "n_ec_fc = 0\n",
    "for bl, t, c in zip(bool_ec_h,mean_er,mean_canser):\n",
    "    if bl == True:\n",
    "        if t > c and abs(t/c) > 1.5:\n",
    "            n_ec_fc +=1\n",
    "        else:\n",
    "            if abs(-c/t) > 1.5: \n",
    "                n_ec_fc +=1\n",
    "                \n",
    "print(n_ne_fc)\n",
    "print(n_ec_fc)"
   ]
  },
  {
   "cell_type": "code",
   "execution_count": 66,
   "metadata": {},
   "outputs": [],
   "source": [
    "write_answer(n_ne_fc,'answer5.txt')\n",
    "write_answer(n_ec_fc,'answer6.txt')"
   ]
  },
  {
   "cell_type": "code",
   "execution_count": null,
   "metadata": {},
   "outputs": [],
   "source": []
  }
 ],
 "metadata": {
  "kernelspec": {
   "display_name": "Python 2",
   "language": "python",
   "name": "python2"
  },
  "language_info": {
   "codemirror_mode": {
    "name": "ipython",
    "version": 2
   },
   "file_extension": ".py",
   "mimetype": "text/x-python",
   "name": "python",
   "nbconvert_exporter": "python",
   "pygments_lexer": "ipython2",
   "version": "2.7.15"
  }
 },
 "nbformat": 4,
 "nbformat_minor": 2
}
