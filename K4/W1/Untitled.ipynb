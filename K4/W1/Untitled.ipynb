{
 "cells": [
  {
   "cell_type": "code",
   "execution_count": 40,
   "metadata": {},
   "outputs": [],
   "source": [
    "import numpy as np\n",
    "import pandas as pd\n",
    "import math"
   ]
  },
  {
   "cell_type": "code",
   "execution_count": 41,
   "metadata": {},
   "outputs": [
    {
     "name": "stdout",
     "output_type": "stream",
     "text": [
      "  location        town  mortality  hardness\n",
      "0    South        Bath       1247       105\n",
      "1    North  Birkenhead       1668        17\n",
      "2    South  Birmingham       1466         5\n",
      "3    North   Blackburn       1800        14\n",
      "4    North   Blackpool       1609        18\n"
     ]
    }
   ],
   "source": [
    "data = pd.read_csv('water.txt', sep= '\\t') \n",
    "print(data.head())"
   ]
  },
  {
   "cell_type": "code",
   "execution_count": 42,
   "metadata": {},
   "outputs": [
    {
     "name": "stdout",
     "output_type": "stream",
     "text": [
      "[1247 1668 1466 1800 1609 1558 1807 1299 1637 1359 1392 1755 1519 1307\n",
      " 1254 1491 1555 1428 1318 1260 1723 1379 1742 1574 1569 1096 1591 1402\n",
      " 1772 1828 1704 1702 1581 1309 1259 1427 1724 1175 1486 1456 1696 1236\n",
      " 1711 1444 1591 1987 1495 1369 1257 1587 1713 1557 1640 1709 1625 1625\n",
      " 1527 1627 1486 1485 1378]\n"
     ]
    }
   ],
   "source": [
    "X = data['mortality'].values\n",
    "print(X)"
   ]
  },
  {
   "cell_type": "code",
   "execution_count": 43,
   "metadata": {},
   "outputs": [],
   "source": [
    "from statsmodels.stats.weightstats import _zconfint_generic, _tconfint_generic"
   ]
  },
  {
   "cell_type": "code",
   "execution_count": 44,
   "metadata": {},
   "outputs": [],
   "source": [
    "mort_mean = X.mean()\n",
    "mort_std = X.std(ddof=1)/math.sqrt(len(X))"
   ]
  },
  {
   "cell_type": "code",
   "execution_count": 45,
   "metadata": {},
   "outputs": [
    {
     "name": "stdout",
     "output_type": "stream",
     "text": [
      "(1476.0833413552848, 1572.2117406119285)\n"
     ]
    }
   ],
   "source": [
    "print (_tconfint_generic(mort_mean, mort_std, len(X) - 1, 0.05, 'two-sided'))"
   ]
  },
  {
   "cell_type": "code",
   "execution_count": 46,
   "metadata": {},
   "outputs": [
    {
     "name": "stdout",
     "output_type": "stream",
     "text": [
      "[1247 1466 1299 1359 1392 1519 1307 1254 1318 1260 1096 1402 1581 1309\n",
      " 1259 1175 1486 1456 1236 1369 1257 1625 1527 1627 1486 1485]\n"
     ]
    }
   ],
   "source": [
    "X_south = data.loc[data['location'] == 'South']['mortality'].values\n",
    "print(X_south)"
   ]
  },
  {
   "cell_type": "code",
   "execution_count": 47,
   "metadata": {},
   "outputs": [],
   "source": [
    "mort_s_mean = X_south.mean()\n",
    "mort_s_std = X_south.std(ddof=1)/math.sqrt(len(X_south))"
   ]
  },
  {
   "cell_type": "code",
   "execution_count": 48,
   "metadata": {},
   "outputs": [
    {
     "name": "stdout",
     "output_type": "stream",
     "text": [
      "(1320.1517462936238, 1433.463638321761)\n"
     ]
    }
   ],
   "source": [
    "print (_tconfint_generic(mort_s_mean, mort_s_std, len(X_south) - 1, 0.05, 'two-sided'))"
   ]
  },
  {
   "cell_type": "code",
   "execution_count": 49,
   "metadata": {},
   "outputs": [
    {
     "name": "stdout",
     "output_type": "stream",
     "text": [
      "[1668 1800 1609 1558 1807 1637 1755 1491 1555 1428 1723 1379 1742 1574\n",
      " 1569 1591 1772 1828 1704 1702 1427 1724 1696 1711 1444 1591 1987 1495\n",
      " 1587 1713 1557 1640 1709 1625 1378]\n"
     ]
    }
   ],
   "source": [
    "X_north = data.loc[data['location'] == 'North']['mortality'].values\n",
    "print(X_north)"
   ]
  },
  {
   "cell_type": "code",
   "execution_count": 50,
   "metadata": {},
   "outputs": [
    {
     "name": "stdout",
     "output_type": "stream",
     "text": [
      "(1586.5605251961385, 1680.6394748038613)\n"
     ]
    }
   ],
   "source": [
    "mort_n_mean = X_north.mean()\n",
    "mort_n_std = X_north.std(ddof=1)/math.sqrt(len(X_north))\n",
    "print (_tconfint_generic(mort_n_mean, mort_n_std, len(X_north) - 1, 0.05, 'two-sided'))"
   ]
  },
  {
   "cell_type": "code",
   "execution_count": 51,
   "metadata": {},
   "outputs": [
    {
     "name": "stdout",
     "output_type": "stream",
     "text": [
      "(53.467198692036106, 86.07126284642544)\n",
      "(21.42248728572426, 39.37751271427574)\n"
     ]
    }
   ],
   "source": [
    "W_south = data.loc[data['location'] == 'South']['hardness'].values\n",
    "W_north = data.loc[data['location'] == 'North']['hardness'].values\n",
    "hard_s_mean = W_south.mean()\n",
    "hard_s_std = W_south.std(ddof=1)/math.sqrt(len(W_south))\n",
    "hard_n_mean = W_north.mean()\n",
    "hard_n_std = W_north.std(ddof=1)/math.sqrt(len(W_north))\n",
    "print (_tconfint_generic(hard_s_mean, hard_s_std, len(W_south) - 1, 0.05, 'two-sided'))\n",
    "print (_tconfint_generic(hard_n_mean, hard_n_std, len(W_north) - 1, 0.05, 'two-sided'))"
   ]
  },
  {
   "cell_type": "code",
   "execution_count": 95,
   "metadata": {},
   "outputs": [
    {
     "name": "stdout",
     "output_type": "stream",
     "text": [
      "0.1\n"
     ]
    }
   ],
   "source": [
    "n = 400\n",
    "print ((2*1/math.sqrt(n)))"
   ]
  },
  {
   "cell_type": "code",
   "execution_count": 96,
   "metadata": {},
   "outputs": [
    {
     "name": "stdout",
     "output_type": "stream",
     "text": [
      "384.1599999999999\n"
     ]
    }
   ],
   "source": [
    "print((1.96/0.1)**2)"
   ]
  }
 ],
 "metadata": {
  "kernelspec": {
   "display_name": "Python 3",
   "language": "python",
   "name": "python3"
  },
  "language_info": {
   "codemirror_mode": {
    "name": "ipython",
    "version": 3
   },
   "file_extension": ".py",
   "mimetype": "text/x-python",
   "name": "python",
   "nbconvert_exporter": "python",
   "pygments_lexer": "ipython3",
   "version": "3.6.5"
  }
 },
 "nbformat": 4,
 "nbformat_minor": 2
}
